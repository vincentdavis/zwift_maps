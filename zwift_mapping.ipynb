{
  "nbformat": 4,
  "nbformat_minor": 0,
  "metadata": {
    "colab": {
      "name": "zwift_mapping.ipynb",
      "provenance": [],
      "authorship_tag": "ABX9TyMi5JpqyaipR87jwzojSLmH",
      "include_colab_link": true
    },
    "kernelspec": {
      "name": "python3",
      "display_name": "Python 3"
    }
  },
  "cells": [
    {
      "cell_type": "markdown",
      "metadata": {
        "id": "view-in-github",
        "colab_type": "text"
      },
      "source": [
        "<a href=\"https://colab.research.google.com/github/vincentdavis/zwift_maps/blob/main/zwift_mapping.ipynb\" target=\"_parent\"><img src=\"https://colab.research.google.com/assets/colab-badge.svg\" alt=\"Open In Colab\"/></a>"
      ]
    },
    {
      "cell_type": "markdown",
      "metadata": {
        "id": "8ajvuXfR1EBo"
      },
      "source": [
        "**Use this to map an event recorded at dashboard.vyrtyfy.com with multiple riders**"
      ]
    },
    {
      "cell_type": "code",
      "metadata": {
        "id": "EU7RpqxJ1A5r"
      },
      "source": [
        "from datetime import datetime\n",
        "import json\n",
        "import pandas as pd\n",
        "import numpy as np\n",
        "\n",
        "def world_time_to_timestamp(world_time):\n",
        "    return datetime.fromtimestamp((int(world_time) + 1414016075000) / 1000.0)\n",
        "\n",
        "def multiple_id_reader(json_path, start_time):\n",
        "  with open(json_path) as j:\n",
        "    data = json.load(j)\n",
        "  row_list = []\n",
        "  for id, id_data in data.items():\n",
        "    # print(id)\n",
        "    if id_data is not None:\n",
        "          for row in id_data.values():\n",
        "            row.update({'id':id})\n",
        "            row_list.append(row)\n",
        "  df = pd.DataFrame(row_list)\n",
        "  event_start_time = np.datetime64(start_time)\n",
        "  df['worldTime_1'] = df['worldTime']\n",
        "  df['irlTime'] = pd.to_datetime(df['worldTime'], unit='ms')\n",
        "  df['irlTime'] = df['worldTime'] + pd.Timedelta(seconds = (1414016075))\n",
        "\n",
        "  df.sort_values(by=['irlTime'], inplace=True)\n",
        "  df = df.reset_index(drop=True)\n",
        "  df['y'] = -df.y\n",
        "  df = df[['id', 'distance', 'heading', 'heartrate', 'power', 'progress', 'roadTime', 'speed', 'time', 'timestamp', 'worldTime', 'worldTime_1', 'irlTime', 'x', 'y', 'groupId', 'laps']]\n",
        "  return df"
      ],
      "execution_count": null,
      "outputs": []
    }
  ]
}